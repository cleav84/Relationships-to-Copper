{
 "cells": [
  {
   "cell_type": "markdown",
   "id": "4716b679-7551-4945-b5c0-71493e58ac95",
   "metadata": {},
   "source": [
    "# Collect Data"
   ]
  },
  {
   "cell_type": "code",
   "execution_count": 1,
   "id": "c0b37fea-82e6-40ea-b8bc-66b20dccb23d",
   "metadata": {},
   "outputs": [],
   "source": [
    "import pandas as pd"
   ]
  },
  {
   "cell_type": "code",
   "execution_count": 2,
   "id": "efd83b5e-1ca8-403c-9a04-00110874840f",
   "metadata": {},
   "outputs": [
    {
     "data": {
      "text/html": [
       "<div>\n",
       "<style scoped>\n",
       "    .dataframe tbody tr th:only-of-type {\n",
       "        vertical-align: middle;\n",
       "    }\n",
       "\n",
       "    .dataframe tbody tr th {\n",
       "        vertical-align: top;\n",
       "    }\n",
       "\n",
       "    .dataframe thead th {\n",
       "        text-align: right;\n",
       "    }\n",
       "</style>\n",
       "<table border=\"1\" class=\"dataframe\">\n",
       "  <thead>\n",
       "    <tr style=\"text-align: right;\">\n",
       "      <th></th>\n",
       "      <th>Unnamed: 0</th>\n",
       "      <th>Date</th>\n",
       "      <th>Natural_Gas_Price</th>\n",
       "      <th>Natural_Gas_Vol.</th>\n",
       "      <th>Crude_oil_Price</th>\n",
       "      <th>Crude_oil_Vol.</th>\n",
       "      <th>Copper_Price</th>\n",
       "      <th>Copper_Vol.</th>\n",
       "      <th>Bitcoin_Price</th>\n",
       "      <th>Bitcoin_Vol.</th>\n",
       "      <th>...</th>\n",
       "      <th>Berkshire_Price</th>\n",
       "      <th>Berkshire_Vol.</th>\n",
       "      <th>Netflix_Price</th>\n",
       "      <th>Netflix_Vol.</th>\n",
       "      <th>Amazon_Price</th>\n",
       "      <th>Amazon_Vol.</th>\n",
       "      <th>Meta_Price</th>\n",
       "      <th>Meta_Vol.</th>\n",
       "      <th>Gold_Price</th>\n",
       "      <th>Gold_Vol.</th>\n",
       "    </tr>\n",
       "  </thead>\n",
       "  <tbody>\n",
       "    <tr>\n",
       "      <th>0</th>\n",
       "      <td>0</td>\n",
       "      <td>02-02-2024</td>\n",
       "      <td>2.079</td>\n",
       "      <td>NaN</td>\n",
       "      <td>72.28</td>\n",
       "      <td>NaN</td>\n",
       "      <td>3.8215</td>\n",
       "      <td>NaN</td>\n",
       "      <td>43,194.70</td>\n",
       "      <td>42650.0</td>\n",
       "      <td>...</td>\n",
       "      <td>5,89,498</td>\n",
       "      <td>10580.0</td>\n",
       "      <td>564.64</td>\n",
       "      <td>4030000.0</td>\n",
       "      <td>171.81</td>\n",
       "      <td>117220000.0</td>\n",
       "      <td>474.99</td>\n",
       "      <td>84710000.0</td>\n",
       "      <td>2,053.70</td>\n",
       "      <td>NaN</td>\n",
       "    </tr>\n",
       "    <tr>\n",
       "      <th>1</th>\n",
       "      <td>1</td>\n",
       "      <td>01-02-2024</td>\n",
       "      <td>2.050</td>\n",
       "      <td>161340.0</td>\n",
       "      <td>73.82</td>\n",
       "      <td>577940.0</td>\n",
       "      <td>3.8535</td>\n",
       "      <td>NaN</td>\n",
       "      <td>43,081.40</td>\n",
       "      <td>47690.0</td>\n",
       "      <td>...</td>\n",
       "      <td>5,81,600</td>\n",
       "      <td>9780.0</td>\n",
       "      <td>567.51</td>\n",
       "      <td>3150000.0</td>\n",
       "      <td>159.28</td>\n",
       "      <td>66360000.0</td>\n",
       "      <td>394.78</td>\n",
       "      <td>25140000.0</td>\n",
       "      <td>2,071.10</td>\n",
       "      <td>260920.0</td>\n",
       "    </tr>\n",
       "    <tr>\n",
       "      <th>2</th>\n",
       "      <td>2</td>\n",
       "      <td>31-01-2024</td>\n",
       "      <td>2.100</td>\n",
       "      <td>142860.0</td>\n",
       "      <td>75.85</td>\n",
       "      <td>344490.0</td>\n",
       "      <td>3.9060</td>\n",
       "      <td>NaN</td>\n",
       "      <td>42,580.50</td>\n",
       "      <td>56480.0</td>\n",
       "      <td>...</td>\n",
       "      <td>5,78,020</td>\n",
       "      <td>9720.0</td>\n",
       "      <td>564.11</td>\n",
       "      <td>4830000.0</td>\n",
       "      <td>155.20</td>\n",
       "      <td>49690000.0</td>\n",
       "      <td>390.14</td>\n",
       "      <td>20010000.0</td>\n",
       "      <td>2,067.40</td>\n",
       "      <td>238370.0</td>\n",
       "    </tr>\n",
       "    <tr>\n",
       "      <th>3</th>\n",
       "      <td>3</td>\n",
       "      <td>30-01-2024</td>\n",
       "      <td>2.077</td>\n",
       "      <td>139750.0</td>\n",
       "      <td>77.82</td>\n",
       "      <td>347240.0</td>\n",
       "      <td>3.9110</td>\n",
       "      <td>NaN</td>\n",
       "      <td>42,946.20</td>\n",
       "      <td>55130.0</td>\n",
       "      <td>...</td>\n",
       "      <td>5,84,680</td>\n",
       "      <td>9750.0</td>\n",
       "      <td>562.85</td>\n",
       "      <td>6120000.0</td>\n",
       "      <td>159.00</td>\n",
       "      <td>42290000.0</td>\n",
       "      <td>400.06</td>\n",
       "      <td>18610000.0</td>\n",
       "      <td>2,050.90</td>\n",
       "      <td>214590.0</td>\n",
       "    </tr>\n",
       "    <tr>\n",
       "      <th>4</th>\n",
       "      <td>4</td>\n",
       "      <td>29-01-2024</td>\n",
       "      <td>2.490</td>\n",
       "      <td>3590.0</td>\n",
       "      <td>76.78</td>\n",
       "      <td>331930.0</td>\n",
       "      <td>3.8790</td>\n",
       "      <td>NaN</td>\n",
       "      <td>43,299.80</td>\n",
       "      <td>45230.0</td>\n",
       "      <td>...</td>\n",
       "      <td>5,78,800</td>\n",
       "      <td>13850.0</td>\n",
       "      <td>575.79</td>\n",
       "      <td>6880000.0</td>\n",
       "      <td>161.26</td>\n",
       "      <td>42840000.0</td>\n",
       "      <td>401.02</td>\n",
       "      <td>17790000.0</td>\n",
       "      <td>2,034.90</td>\n",
       "      <td>1780.0</td>\n",
       "    </tr>\n",
       "  </tbody>\n",
       "</table>\n",
       "<p>5 rows × 39 columns</p>\n",
       "</div>"
      ],
      "text/plain": [
       "   Unnamed: 0        Date  Natural_Gas_Price  Natural_Gas_Vol.  \\\n",
       "0           0  02-02-2024              2.079               NaN   \n",
       "1           1  01-02-2024              2.050          161340.0   \n",
       "2           2  31-01-2024              2.100          142860.0   \n",
       "3           3  30-01-2024              2.077          139750.0   \n",
       "4           4  29-01-2024              2.490            3590.0   \n",
       "\n",
       "   Crude_oil_Price  Crude_oil_Vol.  Copper_Price  Copper_Vol. Bitcoin_Price  \\\n",
       "0            72.28             NaN        3.8215          NaN     43,194.70   \n",
       "1            73.82        577940.0        3.8535          NaN     43,081.40   \n",
       "2            75.85        344490.0        3.9060          NaN     42,580.50   \n",
       "3            77.82        347240.0        3.9110          NaN     42,946.20   \n",
       "4            76.78        331930.0        3.8790          NaN     43,299.80   \n",
       "\n",
       "   Bitcoin_Vol.  ... Berkshire_Price  Berkshire_Vol. Netflix_Price  \\\n",
       "0       42650.0  ...        5,89,498         10580.0        564.64   \n",
       "1       47690.0  ...        5,81,600          9780.0        567.51   \n",
       "2       56480.0  ...        5,78,020          9720.0        564.11   \n",
       "3       55130.0  ...        5,84,680          9750.0        562.85   \n",
       "4       45230.0  ...        5,78,800         13850.0        575.79   \n",
       "\n",
       "   Netflix_Vol. Amazon_Price  Amazon_Vol.  Meta_Price   Meta_Vol.  Gold_Price  \\\n",
       "0     4030000.0       171.81  117220000.0      474.99  84710000.0    2,053.70   \n",
       "1     3150000.0       159.28   66360000.0      394.78  25140000.0    2,071.10   \n",
       "2     4830000.0       155.20   49690000.0      390.14  20010000.0    2,067.40   \n",
       "3     6120000.0       159.00   42290000.0      400.06  18610000.0    2,050.90   \n",
       "4     6880000.0       161.26   42840000.0      401.02  17790000.0    2,034.90   \n",
       "\n",
       "   Gold_Vol.  \n",
       "0        NaN  \n",
       "1   260920.0  \n",
       "2   238370.0  \n",
       "3   214590.0  \n",
       "4     1780.0  \n",
       "\n",
       "[5 rows x 39 columns]"
      ]
     },
     "execution_count": 2,
     "metadata": {},
     "output_type": "execute_result"
    }
   ],
   "source": [
    "df = pd.read_csv(\"Stock_Market_Dataset.csv\")\n",
    "df.head()\n"
   ]
  },
  {
   "cell_type": "markdown",
   "id": "db56bb77-8260-479c-a05e-19b172396e17",
   "metadata": {},
   "source": [
    "# Preprocessing Data/ Feature Engineering"
   ]
  },
  {
   "cell_type": "code",
   "execution_count": 3,
   "id": "e093be04-2df0-4de4-86f0-222051f3797b",
   "metadata": {
    "scrolled": true
   },
   "outputs": [
    {
     "name": "stdout",
     "output_type": "stream",
     "text": [
      "<class 'pandas.core.frame.DataFrame'>\n",
      "RangeIndex: 1243 entries, 0 to 1242\n",
      "Data columns (total 39 columns):\n",
      " #   Column             Non-Null Count  Dtype  \n",
      "---  ------             --------------  -----  \n",
      " 0   Unnamed: 0         1243 non-null   int64  \n",
      " 1   Date               1243 non-null   object \n",
      " 2   Natural_Gas_Price  1243 non-null   float64\n",
      " 3   Natural_Gas_Vol.   1239 non-null   float64\n",
      " 4   Crude_oil_Price    1243 non-null   float64\n",
      " 5   Crude_oil_Vol.     1220 non-null   float64\n",
      " 6   Copper_Price       1243 non-null   float64\n",
      " 7   Copper_Vol.        1206 non-null   float64\n",
      " 8   Bitcoin_Price      1243 non-null   object \n",
      " 9   Bitcoin_Vol.       1243 non-null   float64\n",
      " 10  Platinum_Price     1243 non-null   object \n",
      " 11  Platinum_Vol.      636 non-null    float64\n",
      " 12  Ethereum_Price     1243 non-null   object \n",
      " 13  Ethereum_Vol.      1243 non-null   float64\n",
      " 14  S&P_500_Price      1243 non-null   object \n",
      " 15  Nasdaq_100_Price   1243 non-null   object \n",
      " 16  Nasdaq_100_Vol.    1242 non-null   float64\n",
      " 17  Apple_Price        1243 non-null   float64\n",
      " 18  Apple_Vol.         1243 non-null   float64\n",
      " 19  Tesla_Price        1243 non-null   float64\n",
      " 20  Tesla_Vol.         1243 non-null   float64\n",
      " 21  Microsoft_Price    1243 non-null   float64\n",
      " 22  Microsoft_Vol.     1243 non-null   float64\n",
      " 23  Silver_Price       1243 non-null   float64\n",
      " 24  Silver_Vol.        1196 non-null   float64\n",
      " 25  Google_Price       1243 non-null   float64\n",
      " 26  Google_Vol.        1243 non-null   float64\n",
      " 27  Nvidia_Price       1243 non-null   float64\n",
      " 28  Nvidia_Vol.        1243 non-null   float64\n",
      " 29  Berkshire_Price    1243 non-null   object \n",
      " 30  Berkshire_Vol.     1243 non-null   float64\n",
      " 31  Netflix_Price      1243 non-null   float64\n",
      " 32  Netflix_Vol.       1243 non-null   float64\n",
      " 33  Amazon_Price       1243 non-null   float64\n",
      " 34  Amazon_Vol.        1243 non-null   float64\n",
      " 35  Meta_Price         1243 non-null   float64\n",
      " 36  Meta_Vol.          1243 non-null   float64\n",
      " 37  Gold_Price         1243 non-null   object \n",
      " 38  Gold_Vol.          1241 non-null   float64\n",
      "dtypes: float64(30), int64(1), object(8)\n",
      "memory usage: 378.9+ KB\n"
     ]
    }
   ],
   "source": [
    "df.info()"
   ]
  },
  {
   "cell_type": "code",
   "execution_count": 43,
   "id": "75ef5f0b-e253-4742-b7fa-c03816a2d589",
   "metadata": {},
   "outputs": [
    {
     "data": {
      "text/html": [
       "<div>\n",
       "<style scoped>\n",
       "    .dataframe tbody tr th:only-of-type {\n",
       "        vertical-align: middle;\n",
       "    }\n",
       "\n",
       "    .dataframe tbody tr th {\n",
       "        vertical-align: top;\n",
       "    }\n",
       "\n",
       "    .dataframe thead th {\n",
       "        text-align: right;\n",
       "    }\n",
       "</style>\n",
       "<table border=\"1\" class=\"dataframe\">\n",
       "  <thead>\n",
       "    <tr style=\"text-align: right;\">\n",
       "      <th></th>\n",
       "      <th>Natural_Gas_Price</th>\n",
       "      <th>Natural_Gas_Vol.</th>\n",
       "      <th>Crude_oil_Price</th>\n",
       "      <th>Crude_oil_Vol.</th>\n",
       "      <th>Copper_Price</th>\n",
       "      <th>Copper_Vol.</th>\n",
       "      <th>Bitcoin_Price</th>\n",
       "      <th>Bitcoin_Vol.</th>\n",
       "      <th>Platinum_Price</th>\n",
       "      <th>Platinum_Vol.</th>\n",
       "      <th>...</th>\n",
       "      <th>Amazon_Vol.</th>\n",
       "      <th>Meta_Price</th>\n",
       "      <th>Meta_Vol.</th>\n",
       "      <th>Gold_Price</th>\n",
       "      <th>Gold_Vol.</th>\n",
       "      <th>Monday</th>\n",
       "      <th>Tuesday</th>\n",
       "      <th>Wednesday</th>\n",
       "      <th>Thursday</th>\n",
       "      <th>Friday</th>\n",
       "    </tr>\n",
       "  </thead>\n",
       "  <tbody>\n",
       "    <tr>\n",
       "      <th>count</th>\n",
       "      <td>1243.000000</td>\n",
       "      <td>1243.000000</td>\n",
       "      <td>1243.000000</td>\n",
       "      <td>1.243000e+03</td>\n",
       "      <td>1243.000000</td>\n",
       "      <td>1243.000000</td>\n",
       "      <td>1243.000000</td>\n",
       "      <td>1.243000e+03</td>\n",
       "      <td>1243.000000</td>\n",
       "      <td>1243.000000</td>\n",
       "      <td>...</td>\n",
       "      <td>1.243000e+03</td>\n",
       "      <td>1243.000000</td>\n",
       "      <td>1.243000e+03</td>\n",
       "      <td>1243.000000</td>\n",
       "      <td>1243.000000</td>\n",
       "      <td>1243.000000</td>\n",
       "      <td>1243.000000</td>\n",
       "      <td>1243.000000</td>\n",
       "      <td>1243.000000</td>\n",
       "      <td>1243.000000</td>\n",
       "    </tr>\n",
       "    <tr>\n",
       "      <th>mean</th>\n",
       "      <td>3.494714</td>\n",
       "      <td>131624.116223</td>\n",
       "      <td>67.577064</td>\n",
       "      <td>3.989038e+05</td>\n",
       "      <td>3.541957</td>\n",
       "      <td>35406.616915</td>\n",
       "      <td>25241.903057</td>\n",
       "      <td>4.033918e+07</td>\n",
       "      <td>959.003620</td>\n",
       "      <td>9082.515723</td>\n",
       "      <td>...</td>\n",
       "      <td>7.413005e+07</td>\n",
       "      <td>239.728134</td>\n",
       "      <td>2.325851e+07</td>\n",
       "      <td>1759.246742</td>\n",
       "      <td>211127.671233</td>\n",
       "      <td>0.186645</td>\n",
       "      <td>0.198713</td>\n",
       "      <td>0.208367</td>\n",
       "      <td>0.205149</td>\n",
       "      <td>0.201126</td>\n",
       "    </tr>\n",
       "    <tr>\n",
       "      <th>std</th>\n",
       "      <td>1.822540</td>\n",
       "      <td>64281.378359</td>\n",
       "      <td>20.465500</td>\n",
       "      <td>2.141510e+05</td>\n",
       "      <td>0.702819</td>\n",
       "      <td>37838.911621</td>\n",
       "      <td>16029.009055</td>\n",
       "      <td>2.940889e+08</td>\n",
       "      <td>108.012849</td>\n",
       "      <td>6347.017709</td>\n",
       "      <td>...</td>\n",
       "      <td>3.245753e+07</td>\n",
       "      <td>71.015427</td>\n",
       "      <td>1.555486e+07</td>\n",
       "      <td>203.258901</td>\n",
       "      <td>114913.716277</td>\n",
       "      <td>0.389783</td>\n",
       "      <td>0.399192</td>\n",
       "      <td>0.406304</td>\n",
       "      <td>0.403973</td>\n",
       "      <td>0.401004</td>\n",
       "    </tr>\n",
       "    <tr>\n",
       "      <th>min</th>\n",
       "      <td>1.482000</td>\n",
       "      <td>1200.000000</td>\n",
       "      <td>-37.630000</td>\n",
       "      <td>1.702000e+04</td>\n",
       "      <td>2.100500</td>\n",
       "      <td>10.000000</td>\n",
       "      <td>3397.700000</td>\n",
       "      <td>2.600000e+02</td>\n",
       "      <td>595.200000</td>\n",
       "      <td>0.000000</td>\n",
       "      <td>...</td>\n",
       "      <td>1.763000e+07</td>\n",
       "      <td>88.910000</td>\n",
       "      <td>5.470000e+06</td>\n",
       "      <td>1272.000000</td>\n",
       "      <td>0.000000</td>\n",
       "      <td>0.000000</td>\n",
       "      <td>0.000000</td>\n",
       "      <td>0.000000</td>\n",
       "      <td>0.000000</td>\n",
       "      <td>0.000000</td>\n",
       "    </tr>\n",
       "    <tr>\n",
       "      <th>25%</th>\n",
       "      <td>2.347500</td>\n",
       "      <td>92160.000000</td>\n",
       "      <td>55.095000</td>\n",
       "      <td>2.857900e+05</td>\n",
       "      <td>2.858750</td>\n",
       "      <td>385.000000</td>\n",
       "      <td>10014.600000</td>\n",
       "      <td>7.907500e+04</td>\n",
       "      <td>889.775000</td>\n",
       "      <td>5545.000000</td>\n",
       "      <td>...</td>\n",
       "      <td>5.264500e+07</td>\n",
       "      <td>183.355000</td>\n",
       "      <td>1.478500e+07</td>\n",
       "      <td>1669.600000</td>\n",
       "      <td>152215.000000</td>\n",
       "      <td>0.000000</td>\n",
       "      <td>0.000000</td>\n",
       "      <td>0.000000</td>\n",
       "      <td>0.000000</td>\n",
       "      <td>0.000000</td>\n",
       "    </tr>\n",
       "    <tr>\n",
       "      <th>50%</th>\n",
       "      <td>2.702000</td>\n",
       "      <td>127670.000000</td>\n",
       "      <td>69.230000</td>\n",
       "      <td>3.683000e+05</td>\n",
       "      <td>3.666000</td>\n",
       "      <td>24880.000000</td>\n",
       "      <td>23055.100000</td>\n",
       "      <td>2.153100e+05</td>\n",
       "      <td>944.700000</td>\n",
       "      <td>9082.515723</td>\n",
       "      <td>...</td>\n",
       "      <td>6.520000e+07</td>\n",
       "      <td>224.430000</td>\n",
       "      <td>1.934000e+07</td>\n",
       "      <td>1804.200000</td>\n",
       "      <td>197980.000000</td>\n",
       "      <td>0.000000</td>\n",
       "      <td>0.000000</td>\n",
       "      <td>0.000000</td>\n",
       "      <td>0.000000</td>\n",
       "      <td>0.000000</td>\n",
       "    </tr>\n",
       "    <tr>\n",
       "      <th>75%</th>\n",
       "      <td>4.055500</td>\n",
       "      <td>169340.000000</td>\n",
       "      <td>80.455000</td>\n",
       "      <td>5.012600e+05</td>\n",
       "      <td>4.137250</td>\n",
       "      <td>67195.000000</td>\n",
       "      <td>37784.200000</td>\n",
       "      <td>6.151050e+05</td>\n",
       "      <td>1020.400000</td>\n",
       "      <td>9082.515723</td>\n",
       "      <td>...</td>\n",
       "      <td>8.674500e+07</td>\n",
       "      <td>301.650000</td>\n",
       "      <td>2.711500e+07</td>\n",
       "      <td>1912.800000</td>\n",
       "      <td>257850.000000</td>\n",
       "      <td>0.000000</td>\n",
       "      <td>0.000000</td>\n",
       "      <td>0.000000</td>\n",
       "      <td>0.000000</td>\n",
       "      <td>0.000000</td>\n",
       "    </tr>\n",
       "    <tr>\n",
       "      <th>max</th>\n",
       "      <td>9.647000</td>\n",
       "      <td>381970.000000</td>\n",
       "      <td>123.700000</td>\n",
       "      <td>1.770000e+06</td>\n",
       "      <td>4.937500</td>\n",
       "      <td>176040.000000</td>\n",
       "      <td>67527.900000</td>\n",
       "      <td>4.470000e+09</td>\n",
       "      <td>1297.100000</td>\n",
       "      <td>42830.000000</td>\n",
       "      <td>...</td>\n",
       "      <td>3.113500e+08</td>\n",
       "      <td>474.990000</td>\n",
       "      <td>2.304100e+08</td>\n",
       "      <td>2089.700000</td>\n",
       "      <td>813410.000000</td>\n",
       "      <td>1.000000</td>\n",
       "      <td>1.000000</td>\n",
       "      <td>1.000000</td>\n",
       "      <td>1.000000</td>\n",
       "      <td>1.000000</td>\n",
       "    </tr>\n",
       "  </tbody>\n",
       "</table>\n",
       "<p>8 rows × 41 columns</p>\n",
       "</div>"
      ],
      "text/plain": [
       "       Natural_Gas_Price  Natural_Gas_Vol.  Crude_oil_Price  Crude_oil_Vol.  \\\n",
       "count        1243.000000       1243.000000      1243.000000    1.243000e+03   \n",
       "mean            3.494714     131624.116223        67.577064    3.989038e+05   \n",
       "std             1.822540      64281.378359        20.465500    2.141510e+05   \n",
       "min             1.482000       1200.000000       -37.630000    1.702000e+04   \n",
       "25%             2.347500      92160.000000        55.095000    2.857900e+05   \n",
       "50%             2.702000     127670.000000        69.230000    3.683000e+05   \n",
       "75%             4.055500     169340.000000        80.455000    5.012600e+05   \n",
       "max             9.647000     381970.000000       123.700000    1.770000e+06   \n",
       "\n",
       "       Copper_Price    Copper_Vol.  Bitcoin_Price  Bitcoin_Vol.  \\\n",
       "count   1243.000000    1243.000000    1243.000000  1.243000e+03   \n",
       "mean       3.541957   35406.616915   25241.903057  4.033918e+07   \n",
       "std        0.702819   37838.911621   16029.009055  2.940889e+08   \n",
       "min        2.100500      10.000000    3397.700000  2.600000e+02   \n",
       "25%        2.858750     385.000000   10014.600000  7.907500e+04   \n",
       "50%        3.666000   24880.000000   23055.100000  2.153100e+05   \n",
       "75%        4.137250   67195.000000   37784.200000  6.151050e+05   \n",
       "max        4.937500  176040.000000   67527.900000  4.470000e+09   \n",
       "\n",
       "       Platinum_Price  Platinum_Vol.  ...   Amazon_Vol.   Meta_Price  \\\n",
       "count     1243.000000    1243.000000  ...  1.243000e+03  1243.000000   \n",
       "mean       959.003620    9082.515723  ...  7.413005e+07   239.728134   \n",
       "std        108.012849    6347.017709  ...  3.245753e+07    71.015427   \n",
       "min        595.200000       0.000000  ...  1.763000e+07    88.910000   \n",
       "25%        889.775000    5545.000000  ...  5.264500e+07   183.355000   \n",
       "50%        944.700000    9082.515723  ...  6.520000e+07   224.430000   \n",
       "75%       1020.400000    9082.515723  ...  8.674500e+07   301.650000   \n",
       "max       1297.100000   42830.000000  ...  3.113500e+08   474.990000   \n",
       "\n",
       "          Meta_Vol.   Gold_Price      Gold_Vol.       Monday      Tuesday  \\\n",
       "count  1.243000e+03  1243.000000    1243.000000  1243.000000  1243.000000   \n",
       "mean   2.325851e+07  1759.246742  211127.671233     0.186645     0.198713   \n",
       "std    1.555486e+07   203.258901  114913.716277     0.389783     0.399192   \n",
       "min    5.470000e+06  1272.000000       0.000000     0.000000     0.000000   \n",
       "25%    1.478500e+07  1669.600000  152215.000000     0.000000     0.000000   \n",
       "50%    1.934000e+07  1804.200000  197980.000000     0.000000     0.000000   \n",
       "75%    2.711500e+07  1912.800000  257850.000000     0.000000     0.000000   \n",
       "max    2.304100e+08  2089.700000  813410.000000     1.000000     1.000000   \n",
       "\n",
       "         Wednesday     Thursday       Friday  \n",
       "count  1243.000000  1243.000000  1243.000000  \n",
       "mean      0.208367     0.205149     0.201126  \n",
       "std       0.406304     0.403973     0.401004  \n",
       "min       0.000000     0.000000     0.000000  \n",
       "25%       0.000000     0.000000     0.000000  \n",
       "50%       0.000000     0.000000     0.000000  \n",
       "75%       0.000000     0.000000     0.000000  \n",
       "max       1.000000     1.000000     1.000000  \n",
       "\n",
       "[8 rows x 41 columns]"
      ]
     },
     "execution_count": 43,
     "metadata": {},
     "output_type": "execute_result"
    }
   ],
   "source": [
    "df.describe()"
   ]
  },
  {
   "cell_type": "markdown",
   "id": "e3860030-796f-4389-9155-d0c2e1791dd4",
   "metadata": {},
   "source": [
    "### Reduce unneccesary columns"
   ]
  },
  {
   "cell_type": "code",
   "execution_count": 4,
   "id": "70137574-da10-48c9-b316-a06167570e8a",
   "metadata": {
    "scrolled": true
   },
   "outputs": [
    {
     "name": "stdout",
     "output_type": "stream",
     "text": [
      "<class 'pandas.core.frame.DataFrame'>\n",
      "RangeIndex: 1243 entries, 0 to 1242\n",
      "Data columns (total 37 columns):\n",
      " #   Column             Non-Null Count  Dtype  \n",
      "---  ------             --------------  -----  \n",
      " 0   Date               1243 non-null   object \n",
      " 1   Natural_Gas_Price  1243 non-null   float64\n",
      " 2   Natural_Gas_Vol.   1239 non-null   float64\n",
      " 3   Crude_oil_Price    1243 non-null   float64\n",
      " 4   Crude_oil_Vol.     1220 non-null   float64\n",
      " 5   Copper_Price       1243 non-null   float64\n",
      " 6   Copper_Vol.        1206 non-null   float64\n",
      " 7   Bitcoin_Price      1243 non-null   object \n",
      " 8   Bitcoin_Vol.       1243 non-null   float64\n",
      " 9   Platinum_Price     1243 non-null   object \n",
      " 10  Platinum_Vol.      636 non-null    float64\n",
      " 11  Ethereum_Price     1243 non-null   object \n",
      " 12  Ethereum_Vol.      1243 non-null   float64\n",
      " 13  S&P_500_Price      1243 non-null   object \n",
      " 14  Nasdaq_100_Price   1243 non-null   object \n",
      " 15  Nasdaq_100_Vol.    1242 non-null   float64\n",
      " 16  Apple_Price        1243 non-null   float64\n",
      " 17  Apple_Vol.         1243 non-null   float64\n",
      " 18  Tesla_Price        1243 non-null   float64\n",
      " 19  Tesla_Vol.         1243 non-null   float64\n",
      " 20  Microsoft_Price    1243 non-null   float64\n",
      " 21  Microsoft_Vol.     1243 non-null   float64\n",
      " 22  Silver_Price       1243 non-null   float64\n",
      " 23  Silver_Vol.        1196 non-null   float64\n",
      " 24  Google_Price       1243 non-null   float64\n",
      " 25  Google_Vol.        1243 non-null   float64\n",
      " 26  Nvidia_Price       1243 non-null   float64\n",
      " 27  Nvidia_Vol.        1243 non-null   float64\n",
      " 28  Berkshire_Vol.     1243 non-null   float64\n",
      " 29  Netflix_Price      1243 non-null   float64\n",
      " 30  Netflix_Vol.       1243 non-null   float64\n",
      " 31  Amazon_Price       1243 non-null   float64\n",
      " 32  Amazon_Vol.        1243 non-null   float64\n",
      " 33  Meta_Price         1243 non-null   float64\n",
      " 34  Meta_Vol.          1243 non-null   float64\n",
      " 35  Gold_Price         1243 non-null   object \n",
      " 36  Gold_Vol.          1241 non-null   float64\n",
      "dtypes: float64(30), object(7)\n",
      "memory usage: 359.4+ KB\n"
     ]
    }
   ],
   "source": [
    "# Dropping Berkshire_Price due to error in numbers in column\n",
    "columns_to_drop = ['Unnamed: 0', 'Berkshire_Price']\n",
    "                   \n",
    "df = df.drop(columns = columns_to_drop)\n",
    "df.info()"
   ]
  },
  {
   "cell_type": "markdown",
   "id": "4381bf59-0c88-4f2f-a3c8-6a104d0258ae",
   "metadata": {},
   "source": [
    "### Convert object datatypes to float"
   ]
  },
  {
   "cell_type": "code",
   "execution_count": 5,
   "id": "65fb82ab-54d9-4260-8bc3-79df2c3c2fd9",
   "metadata": {},
   "outputs": [
    {
     "name": "stdout",
     "output_type": "stream",
     "text": [
      "<class 'pandas.core.frame.DataFrame'>\n",
      "RangeIndex: 1243 entries, 0 to 1242\n",
      "Data columns (total 37 columns):\n",
      " #   Column             Non-Null Count  Dtype  \n",
      "---  ------             --------------  -----  \n",
      " 0   Date               1243 non-null   object \n",
      " 1   Natural_Gas_Price  1243 non-null   float64\n",
      " 2   Natural_Gas_Vol.   1239 non-null   float64\n",
      " 3   Crude_oil_Price    1243 non-null   float64\n",
      " 4   Crude_oil_Vol.     1220 non-null   float64\n",
      " 5   Copper_Price       1243 non-null   float64\n",
      " 6   Copper_Vol.        1206 non-null   float64\n",
      " 7   Bitcoin_Price      1243 non-null   float64\n",
      " 8   Bitcoin_Vol.       1243 non-null   float64\n",
      " 9   Platinum_Price     1243 non-null   float64\n",
      " 10  Platinum_Vol.      636 non-null    float64\n",
      " 11  Ethereum_Price     1243 non-null   float64\n",
      " 12  Ethereum_Vol.      1243 non-null   float64\n",
      " 13  S&P_500_Price      1243 non-null   float64\n",
      " 14  Nasdaq_100_Price   1243 non-null   float64\n",
      " 15  Nasdaq_100_Vol.    1242 non-null   float64\n",
      " 16  Apple_Price        1243 non-null   float64\n",
      " 17  Apple_Vol.         1243 non-null   float64\n",
      " 18  Tesla_Price        1243 non-null   float64\n",
      " 19  Tesla_Vol.         1243 non-null   float64\n",
      " 20  Microsoft_Price    1243 non-null   float64\n",
      " 21  Microsoft_Vol.     1243 non-null   float64\n",
      " 22  Silver_Price       1243 non-null   float64\n",
      " 23  Silver_Vol.        1196 non-null   float64\n",
      " 24  Google_Price       1243 non-null   float64\n",
      " 25  Google_Vol.        1243 non-null   float64\n",
      " 26  Nvidia_Price       1243 non-null   float64\n",
      " 27  Nvidia_Vol.        1243 non-null   float64\n",
      " 28  Berkshire_Vol.     1243 non-null   float64\n",
      " 29  Netflix_Price      1243 non-null   float64\n",
      " 30  Netflix_Vol.       1243 non-null   float64\n",
      " 31  Amazon_Price       1243 non-null   float64\n",
      " 32  Amazon_Vol.        1243 non-null   float64\n",
      " 33  Meta_Price         1243 non-null   float64\n",
      " 34  Meta_Vol.          1243 non-null   float64\n",
      " 35  Gold_Price         1243 non-null   float64\n",
      " 36  Gold_Vol.          1241 non-null   float64\n",
      "dtypes: float64(36), object(1)\n",
      "memory usage: 359.4+ KB\n"
     ]
    }
   ],
   "source": [
    "columns = ['Bitcoin_Price',\n",
    "           'Platinum_Price',\n",
    "           'Ethereum_Price',\n",
    "           'S&P_500_Price',\n",
    "           'Nasdaq_100_Price',\n",
    "           'Gold_Price'\n",
    "          ]\n",
    "for column in columns:\n",
    "    if df[column].dtype == 'object':\n",
    "        df[column] = pd.to_numeric(df[column].str.replace(',','',regex=False))\n",
    "        \n",
    "df.info()"
   ]
  },
  {
   "cell_type": "markdown",
   "id": "164781e1-ec07-4de1-8b5f-801ecbc13e62",
   "metadata": {},
   "source": [
    "### Fill in NaN values with column mean value"
   ]
  },
  {
   "cell_type": "code",
   "execution_count": 6,
   "id": "fcff2b89-4a85-4056-9c0c-f3a572598c0b",
   "metadata": {},
   "outputs": [
    {
     "name": "stdout",
     "output_type": "stream",
     "text": [
      "<class 'pandas.core.frame.DataFrame'>\n",
      "RangeIndex: 1243 entries, 0 to 1242\n",
      "Data columns (total 37 columns):\n",
      " #   Column             Non-Null Count  Dtype  \n",
      "---  ------             --------------  -----  \n",
      " 0   Date               1243 non-null   object \n",
      " 1   Natural_Gas_Price  1243 non-null   float64\n",
      " 2   Natural_Gas_Vol.   1243 non-null   float64\n",
      " 3   Crude_oil_Price    1243 non-null   float64\n",
      " 4   Crude_oil_Vol.     1243 non-null   float64\n",
      " 5   Copper_Price       1243 non-null   float64\n",
      " 6   Copper_Vol.        1243 non-null   float64\n",
      " 7   Bitcoin_Price      1243 non-null   float64\n",
      " 8   Bitcoin_Vol.       1243 non-null   float64\n",
      " 9   Platinum_Price     1243 non-null   float64\n",
      " 10  Platinum_Vol.      1243 non-null   float64\n",
      " 11  Ethereum_Price     1243 non-null   float64\n",
      " 12  Ethereum_Vol.      1243 non-null   float64\n",
      " 13  S&P_500_Price      1243 non-null   float64\n",
      " 14  Nasdaq_100_Price   1243 non-null   float64\n",
      " 15  Nasdaq_100_Vol.    1243 non-null   float64\n",
      " 16  Apple_Price        1243 non-null   float64\n",
      " 17  Apple_Vol.         1243 non-null   float64\n",
      " 18  Tesla_Price        1243 non-null   float64\n",
      " 19  Tesla_Vol.         1243 non-null   float64\n",
      " 20  Microsoft_Price    1243 non-null   float64\n",
      " 21  Microsoft_Vol.     1243 non-null   float64\n",
      " 22  Silver_Price       1243 non-null   float64\n",
      " 23  Silver_Vol.        1243 non-null   float64\n",
      " 24  Google_Price       1243 non-null   float64\n",
      " 25  Google_Vol.        1243 non-null   float64\n",
      " 26  Nvidia_Price       1243 non-null   float64\n",
      " 27  Nvidia_Vol.        1243 non-null   float64\n",
      " 28  Berkshire_Vol.     1243 non-null   float64\n",
      " 29  Netflix_Price      1243 non-null   float64\n",
      " 30  Netflix_Vol.       1243 non-null   float64\n",
      " 31  Amazon_Price       1243 non-null   float64\n",
      " 32  Amazon_Vol.        1243 non-null   float64\n",
      " 33  Meta_Price         1243 non-null   float64\n",
      " 34  Meta_Vol.          1243 non-null   float64\n",
      " 35  Gold_Price         1243 non-null   float64\n",
      " 36  Gold_Vol.          1243 non-null   float64\n",
      "dtypes: float64(36), object(1)\n",
      "memory usage: 359.4+ KB\n"
     ]
    }
   ],
   "source": [
    "columns_with_null = ['Natural_Gas_Vol.',\n",
    "                     'Crude_oil_Vol.',\n",
    "                     'Copper_Vol.',\n",
    "                     'Platinum_Vol.',\n",
    "                     'Nasdaq_100_Vol.',\n",
    "                     'Silver_Vol.',\n",
    "                     'Gold_Vol.'\n",
    "                    ]\n",
    "for column in columns_with_null:\n",
    "    if column not in df.columns:\n",
    "        print(f\"Column '{column}' not found in DataFrame!\")\n",
    "    else:\n",
    "        df[column] = df[column].fillna(df[column].mean())\n",
    "\n",
    "df.info()"
   ]
  },
  {
   "cell_type": "markdown",
   "id": "be3dc718-97a8-466a-8eff-2a1e4958b969",
   "metadata": {},
   "source": [
    "### Convert Date column to datetime object"
   ]
  },
  {
   "cell_type": "code",
   "execution_count": 7,
   "id": "a8c2a055-6156-4215-a8de-5c0aaa5c91ff",
   "metadata": {},
   "outputs": [
    {
     "name": "stdout",
     "output_type": "stream",
     "text": [
      "<class 'pandas.core.frame.DataFrame'>\n",
      "RangeIndex: 1243 entries, 0 to 1242\n",
      "Data columns (total 37 columns):\n",
      " #   Column             Non-Null Count  Dtype         \n",
      "---  ------             --------------  -----         \n",
      " 0   Date               1243 non-null   datetime64[ns]\n",
      " 1   Natural_Gas_Price  1243 non-null   float64       \n",
      " 2   Natural_Gas_Vol.   1243 non-null   float64       \n",
      " 3   Crude_oil_Price    1243 non-null   float64       \n",
      " 4   Crude_oil_Vol.     1243 non-null   float64       \n",
      " 5   Copper_Price       1243 non-null   float64       \n",
      " 6   Copper_Vol.        1243 non-null   float64       \n",
      " 7   Bitcoin_Price      1243 non-null   float64       \n",
      " 8   Bitcoin_Vol.       1243 non-null   float64       \n",
      " 9   Platinum_Price     1243 non-null   float64       \n",
      " 10  Platinum_Vol.      1243 non-null   float64       \n",
      " 11  Ethereum_Price     1243 non-null   float64       \n",
      " 12  Ethereum_Vol.      1243 non-null   float64       \n",
      " 13  S&P_500_Price      1243 non-null   float64       \n",
      " 14  Nasdaq_100_Price   1243 non-null   float64       \n",
      " 15  Nasdaq_100_Vol.    1243 non-null   float64       \n",
      " 16  Apple_Price        1243 non-null   float64       \n",
      " 17  Apple_Vol.         1243 non-null   float64       \n",
      " 18  Tesla_Price        1243 non-null   float64       \n",
      " 19  Tesla_Vol.         1243 non-null   float64       \n",
      " 20  Microsoft_Price    1243 non-null   float64       \n",
      " 21  Microsoft_Vol.     1243 non-null   float64       \n",
      " 22  Silver_Price       1243 non-null   float64       \n",
      " 23  Silver_Vol.        1243 non-null   float64       \n",
      " 24  Google_Price       1243 non-null   float64       \n",
      " 25  Google_Vol.        1243 non-null   float64       \n",
      " 26  Nvidia_Price       1243 non-null   float64       \n",
      " 27  Nvidia_Vol.        1243 non-null   float64       \n",
      " 28  Berkshire_Vol.     1243 non-null   float64       \n",
      " 29  Netflix_Price      1243 non-null   float64       \n",
      " 30  Netflix_Vol.       1243 non-null   float64       \n",
      " 31  Amazon_Price       1243 non-null   float64       \n",
      " 32  Amazon_Vol.        1243 non-null   float64       \n",
      " 33  Meta_Price         1243 non-null   float64       \n",
      " 34  Meta_Vol.          1243 non-null   float64       \n",
      " 35  Gold_Price         1243 non-null   float64       \n",
      " 36  Gold_Vol.          1243 non-null   float64       \n",
      "dtypes: datetime64[ns](1), float64(36)\n",
      "memory usage: 359.4 KB\n"
     ]
    }
   ],
   "source": [
    "df['Date'] = pd.to_datetime(df['Date'], dayfirst=True)\n",
    "df.info()"
   ]
  },
  {
   "cell_type": "markdown",
   "id": "c5fada3c-9950-4cee-9058-b8b480b53f64",
   "metadata": {},
   "source": [
    "### Add days of the week using Date column"
   ]
  },
  {
   "cell_type": "code",
   "execution_count": 8,
   "id": "3377f541-0d41-4aac-9b58-adbda927ec67",
   "metadata": {},
   "outputs": [
    {
     "data": {
      "text/html": [
       "<div>\n",
       "<style scoped>\n",
       "    .dataframe tbody tr th:only-of-type {\n",
       "        vertical-align: middle;\n",
       "    }\n",
       "\n",
       "    .dataframe tbody tr th {\n",
       "        vertical-align: top;\n",
       "    }\n",
       "\n",
       "    .dataframe thead th {\n",
       "        text-align: right;\n",
       "    }\n",
       "</style>\n",
       "<table border=\"1\" class=\"dataframe\">\n",
       "  <thead>\n",
       "    <tr style=\"text-align: right;\">\n",
       "      <th></th>\n",
       "      <th>Natural_Gas_Price</th>\n",
       "      <th>Natural_Gas_Vol.</th>\n",
       "      <th>Crude_oil_Price</th>\n",
       "      <th>Crude_oil_Vol.</th>\n",
       "      <th>Copper_Price</th>\n",
       "      <th>Copper_Vol.</th>\n",
       "      <th>Bitcoin_Price</th>\n",
       "      <th>Bitcoin_Vol.</th>\n",
       "      <th>Platinum_Price</th>\n",
       "      <th>Platinum_Vol.</th>\n",
       "      <th>...</th>\n",
       "      <th>Amazon_Vol.</th>\n",
       "      <th>Meta_Price</th>\n",
       "      <th>Meta_Vol.</th>\n",
       "      <th>Gold_Price</th>\n",
       "      <th>Gold_Vol.</th>\n",
       "      <th>Monday</th>\n",
       "      <th>Tuesday</th>\n",
       "      <th>Wednesday</th>\n",
       "      <th>Thursday</th>\n",
       "      <th>Friday</th>\n",
       "    </tr>\n",
       "  </thead>\n",
       "  <tbody>\n",
       "    <tr>\n",
       "      <th>0</th>\n",
       "      <td>2.079</td>\n",
       "      <td>131624.116223</td>\n",
       "      <td>72.28</td>\n",
       "      <td>398903.778689</td>\n",
       "      <td>3.8215</td>\n",
       "      <td>35406.616915</td>\n",
       "      <td>43194.7</td>\n",
       "      <td>42650.0</td>\n",
       "      <td>901.6</td>\n",
       "      <td>9082.515723</td>\n",
       "      <td>...</td>\n",
       "      <td>117220000.0</td>\n",
       "      <td>474.99</td>\n",
       "      <td>84710000.0</td>\n",
       "      <td>2053.7</td>\n",
       "      <td>211127.671233</td>\n",
       "      <td>0</td>\n",
       "      <td>0</td>\n",
       "      <td>0</td>\n",
       "      <td>0</td>\n",
       "      <td>1</td>\n",
       "    </tr>\n",
       "    <tr>\n",
       "      <th>1</th>\n",
       "      <td>2.050</td>\n",
       "      <td>161340.000000</td>\n",
       "      <td>73.82</td>\n",
       "      <td>577940.000000</td>\n",
       "      <td>3.8535</td>\n",
       "      <td>35406.616915</td>\n",
       "      <td>43081.4</td>\n",
       "      <td>47690.0</td>\n",
       "      <td>922.3</td>\n",
       "      <td>9082.515723</td>\n",
       "      <td>...</td>\n",
       "      <td>66360000.0</td>\n",
       "      <td>394.78</td>\n",
       "      <td>25140000.0</td>\n",
       "      <td>2071.1</td>\n",
       "      <td>260920.000000</td>\n",
       "      <td>0</td>\n",
       "      <td>0</td>\n",
       "      <td>0</td>\n",
       "      <td>1</td>\n",
       "      <td>0</td>\n",
       "    </tr>\n",
       "    <tr>\n",
       "      <th>2</th>\n",
       "      <td>2.100</td>\n",
       "      <td>142860.000000</td>\n",
       "      <td>75.85</td>\n",
       "      <td>344490.000000</td>\n",
       "      <td>3.9060</td>\n",
       "      <td>35406.616915</td>\n",
       "      <td>42580.5</td>\n",
       "      <td>56480.0</td>\n",
       "      <td>932.6</td>\n",
       "      <td>9082.515723</td>\n",
       "      <td>...</td>\n",
       "      <td>49690000.0</td>\n",
       "      <td>390.14</td>\n",
       "      <td>20010000.0</td>\n",
       "      <td>2067.4</td>\n",
       "      <td>238370.000000</td>\n",
       "      <td>0</td>\n",
       "      <td>0</td>\n",
       "      <td>1</td>\n",
       "      <td>0</td>\n",
       "      <td>0</td>\n",
       "    </tr>\n",
       "    <tr>\n",
       "      <th>3</th>\n",
       "      <td>2.077</td>\n",
       "      <td>139750.000000</td>\n",
       "      <td>77.82</td>\n",
       "      <td>347240.000000</td>\n",
       "      <td>3.9110</td>\n",
       "      <td>35406.616915</td>\n",
       "      <td>42946.2</td>\n",
       "      <td>55130.0</td>\n",
       "      <td>931.7</td>\n",
       "      <td>9082.515723</td>\n",
       "      <td>...</td>\n",
       "      <td>42290000.0</td>\n",
       "      <td>400.06</td>\n",
       "      <td>18610000.0</td>\n",
       "      <td>2050.9</td>\n",
       "      <td>214590.000000</td>\n",
       "      <td>0</td>\n",
       "      <td>1</td>\n",
       "      <td>0</td>\n",
       "      <td>0</td>\n",
       "      <td>0</td>\n",
       "    </tr>\n",
       "    <tr>\n",
       "      <th>4</th>\n",
       "      <td>2.490</td>\n",
       "      <td>3590.000000</td>\n",
       "      <td>76.78</td>\n",
       "      <td>331930.000000</td>\n",
       "      <td>3.8790</td>\n",
       "      <td>35406.616915</td>\n",
       "      <td>43299.8</td>\n",
       "      <td>45230.0</td>\n",
       "      <td>938.3</td>\n",
       "      <td>9082.515723</td>\n",
       "      <td>...</td>\n",
       "      <td>42840000.0</td>\n",
       "      <td>401.02</td>\n",
       "      <td>17790000.0</td>\n",
       "      <td>2034.9</td>\n",
       "      <td>1780.000000</td>\n",
       "      <td>1</td>\n",
       "      <td>0</td>\n",
       "      <td>0</td>\n",
       "      <td>0</td>\n",
       "      <td>0</td>\n",
       "    </tr>\n",
       "  </tbody>\n",
       "</table>\n",
       "<p>5 rows × 41 columns</p>\n",
       "</div>"
      ],
      "text/plain": [
       "   Natural_Gas_Price  Natural_Gas_Vol.  Crude_oil_Price  Crude_oil_Vol.  \\\n",
       "0              2.079     131624.116223            72.28   398903.778689   \n",
       "1              2.050     161340.000000            73.82   577940.000000   \n",
       "2              2.100     142860.000000            75.85   344490.000000   \n",
       "3              2.077     139750.000000            77.82   347240.000000   \n",
       "4              2.490       3590.000000            76.78   331930.000000   \n",
       "\n",
       "   Copper_Price   Copper_Vol.  Bitcoin_Price  Bitcoin_Vol.  Platinum_Price  \\\n",
       "0        3.8215  35406.616915        43194.7       42650.0           901.6   \n",
       "1        3.8535  35406.616915        43081.4       47690.0           922.3   \n",
       "2        3.9060  35406.616915        42580.5       56480.0           932.6   \n",
       "3        3.9110  35406.616915        42946.2       55130.0           931.7   \n",
       "4        3.8790  35406.616915        43299.8       45230.0           938.3   \n",
       "\n",
       "   Platinum_Vol.  ...  Amazon_Vol.  Meta_Price   Meta_Vol.  Gold_Price  \\\n",
       "0    9082.515723  ...  117220000.0      474.99  84710000.0      2053.7   \n",
       "1    9082.515723  ...   66360000.0      394.78  25140000.0      2071.1   \n",
       "2    9082.515723  ...   49690000.0      390.14  20010000.0      2067.4   \n",
       "3    9082.515723  ...   42290000.0      400.06  18610000.0      2050.9   \n",
       "4    9082.515723  ...   42840000.0      401.02  17790000.0      2034.9   \n",
       "\n",
       "       Gold_Vol.  Monday  Tuesday  Wednesday  Thursday  Friday  \n",
       "0  211127.671233       0        0          0         0       1  \n",
       "1  260920.000000       0        0          0         1       0  \n",
       "2  238370.000000       0        0          1         0       0  \n",
       "3  214590.000000       0        1          0         0       0  \n",
       "4    1780.000000       1        0          0         0       0  \n",
       "\n",
       "[5 rows x 41 columns]"
      ]
     },
     "execution_count": 8,
     "metadata": {},
     "output_type": "execute_result"
    }
   ],
   "source": [
    "df['DayofWeek'] = df['Date'].dt.day_name()\n",
    "columns = ['Monday','Tuesday','Wednesday','Thursday','Friday']\n",
    "for day in columns:\n",
    "    df[day] = (df['DayofWeek'] == day).astype(int)\n",
    "df =df.drop(columns = ['DayofWeek','Date'])\n",
    "df.head()"
   ]
  },
  {
   "cell_type": "markdown",
   "id": "9478d667-abac-4df5-b738-5b8c035e7298",
   "metadata": {},
   "source": [
    "# Statistical Tests"
   ]
  },
  {
   "cell_type": "markdown",
   "id": "aebe5f59-176e-4ea7-be57-6d3007c548dd",
   "metadata": {},
   "source": [
    "### Run Kendall Tau correlation\n",
    "* Tau is the statiscal measure used to assess the strength and direction of the association between two variables."
   ]
  },
  {
   "cell_type": "code",
   "execution_count": 9,
   "id": "99e36f3c-ddf6-46b9-81d7-1765b758a280",
   "metadata": {},
   "outputs": [],
   "source": [
    "from scipy.stats import kendalltau\n",
    "import numpy as np"
   ]
  },
  {
   "cell_type": "code",
   "execution_count": 10,
   "id": "96911d01-3335-4de4-bdb1-76df21cade5a",
   "metadata": {},
   "outputs": [],
   "source": [
    "x = df.drop(columns='Copper_Price')\n",
    "y = df['Copper_Price']"
   ]
  },
  {
   "cell_type": "code",
   "execution_count": 11,
   "id": "38bebf42-01df-45b1-a476-29c47f3473d3",
   "metadata": {},
   "outputs": [
    {
     "name": "stdout",
     "output_type": "stream",
     "text": [
      "             Variable       Tau P-value\n",
      "9      Ethereum_Price  0.711307  0.0000\n",
      "5       Bitcoin_Price  0.655759  0.0000\n",
      "11      S&P_500_Price  0.641250  0.0000\n",
      "22       Google_Price  0.616076  0.0000\n",
      "12   Nasdaq_100_Price  0.566134  0.0000\n",
      "16        Tesla_Price  0.546728  0.0000\n",
      "18    Microsoft_Price  0.516811  0.0000\n",
      "24       Nvidia_Price  0.506958  0.0000\n",
      "7      Platinum_Price  0.503627  0.0000\n",
      "20       Silver_Price  0.487475  0.0000\n",
      "14        Apple_Price  0.464953  0.0000\n",
      "2     Crude_oil_Price  0.460525  0.0000\n",
      "0   Natural_Gas_Price  0.452419  0.0000\n",
      "29       Amazon_Price  0.399520  0.0000\n",
      "26     Berkshire_Vol.  0.336146  0.0000\n",
      "33         Gold_Price  0.335636  0.0000\n",
      "31         Meta_Price  0.320690  0.0000\n",
      "27      Netflix_Price  0.224629  0.0000\n",
      "13    Nasdaq_100_Vol.  0.138798  0.0000\n",
      "32          Meta_Vol.  0.130833  0.0000\n",
      "4         Copper_Vol.  0.048378  0.0108\n",
      "37          Wednesday  0.006106  0.7922\n",
      "38           Thursday  0.004209  0.8559\n",
      "39             Friday  0.003032  0.8959\n",
      "35             Monday -0.005124  0.8251\n",
      "36            Tuesday -0.008517  0.7133\n",
      "25        Nvidia_Vol. -0.027500  0.1465\n",
      "19     Microsoft_Vol. -0.034670  0.0672\n",
      "23        Google_Vol. -0.043545  0.0215\n",
      "8       Platinum_Vol. -0.050160  0.0139\n",
      "30        Amazon_Vol. -0.134714  0.0000\n",
      "1    Natural_Gas_Vol. -0.146708  0.0000\n",
      "3      Crude_oil_Vol. -0.193709  0.0000\n",
      "28       Netflix_Vol. -0.201864  0.0000\n",
      "21        Silver_Vol. -0.214893  0.0000\n",
      "15         Apple_Vol. -0.276399  0.0000\n",
      "34          Gold_Vol. -0.302463  0.0000\n",
      "17         Tesla_Vol. -0.323258  0.0000\n",
      "6        Bitcoin_Vol. -0.388074  0.0000\n",
      "10      Ethereum_Vol. -0.441623  0.0000\n"
     ]
    }
   ],
   "source": [
    "results = []\n",
    "\n",
    "for col in df.columns:\n",
    "    if col != 'Copper_Price':\n",
    "        x = df[col]\n",
    "        valid_data = pd.DataFrame({'x': x, 'y': y}).dropna()\n",
    "        if not valid_data.empty:\n",
    "            tau, p_value = kendalltau(valid_data['x'], valid_data['y'])\n",
    "            \n",
    "            if np.isfinite(tau) and np.isfinite(p_value):  # Ensure no infinities\n",
    "                results.append({'Variable': col, 'Tau': tau, 'P-value': p_value})\n",
    "\n",
    "results_df = pd.DataFrame(results)\n",
    "results_df = results_df.sort_values(by='Tau', ascending=False)\n",
    "\n",
    "results_df['P-value'] = results_df['P-value'].apply(lambda x: '{:.4f}'.format(x))  # Format to 8 decimal places\n",
    "\n",
    "print(results_df)"
   ]
  },
  {
   "cell_type": "markdown",
   "id": "659d7b13-7252-4efa-9088-1154fec60f7c",
   "metadata": {},
   "source": [
    "# Hypothesis Results\n",
    "### Evaluated Criteria\n",
    "* Tau Coeffecient >= 0.7\n",
    "* P-value < 0.05"
   ]
  },
  {
   "cell_type": "code",
   "execution_count": 12,
   "id": "4d8b3919-1f72-4611-b37e-8cfa0ff5518c",
   "metadata": {},
   "outputs": [
    {
     "name": "stdout",
     "output_type": "stream",
     "text": [
      "Variable 'Ethereum_Price' meets the criteria: Tau = 0.711, p-value = 0.0000\n",
      "This supports our hypothesis and rejects the null hypothesis.\n"
     ]
    }
   ],
   "source": [
    "tau_threshold = 0.69\n",
    "p_value_threshold = 0.05\n",
    "\n",
    "for col in df.columns:\n",
    "    if col != 'Copper_Price':\n",
    "        x = df[col]\n",
    "        \n",
    "        # Calculate Kendall's Tau and p-value\n",
    "        tau, p_value = kendalltau(x, y)\n",
    "        \n",
    "        # Check if the Tau and p-value match the criteria\n",
    "        if tau > tau_threshold and p_value < p_value_threshold:\n",
    "            print(f\"Variable '{col}' meets the criteria: Tau = {tau:.3f}, p-value = {p_value:.4f}\")\n",
    "            print(f\"This supports our hypothesis and rejects the null hypothesis.\")"
   ]
  },
  {
   "cell_type": "markdown",
   "id": "6d9d1ed2-ce82-46a8-912f-c2c7e0b4c1e2",
   "metadata": {},
   "source": [
    "# Visualize Correlation"
   ]
  },
  {
   "cell_type": "markdown",
   "id": "ea67e881-3c17-4398-a860-f36926bedb1b",
   "metadata": {},
   "source": [
    "### Plot Heatmap showing Correlation"
   ]
  },
  {
   "cell_type": "code",
   "execution_count": 13,
   "id": "8fb92f8f-3a1a-40db-92f9-2e44311d22e5",
   "metadata": {},
   "outputs": [],
   "source": [
    "import seaborn as sns\n",
    "import matplotlib.pyplot as plt"
   ]
  },
  {
   "cell_type": "code",
   "execution_count": 14,
   "id": "bb05a558-54a4-41be-a33f-3457d1aa0814",
   "metadata": {},
   "outputs": [
    {
     "data": {
      "image/png": "[encoded data removed]",
      "text/plain": [
       "<Figure size 1000x800 with 2 Axes>"
      ]
     },
     "metadata": {},
     "output_type": "display_data"
    }
   ],
   "source": [
    "heatmap_data = results_df[['Variable', 'Tau']].set_index('Variable')\n",
    "plt.figure(figsize=(10, 8))\n",
    "sns.heatmap(heatmap_data, annot=True, cmap='coolwarm', cbar=True, linewidths=0.5)\n",
    "plt.title('Kendall Tau Correlation Heatmap showing Tau')\n",
    "plt.xlabel('Copper_Price')\n",
    "plt.ylabel('Variables')\n",
    "plt.show()"
   ]
  },
  {
   "cell_type": "markdown",
   "id": "b082d546-14e0-4f45-93a6-774c6bb61324",
   "metadata": {},
   "source": [
    "# Model Creation"
   ]
  },
  {
   "cell_type": "code",
   "execution_count": 15,
   "id": "82a1c4ed-c6be-44ab-ad78-9c22c44f9823",
   "metadata": {},
   "outputs": [],
   "source": [
    "from sklearn.model_selection import train_test_split\n",
    "import xgboost as xgb"
   ]
  },
  {
   "cell_type": "code",
   "execution_count": 16,
   "id": "8cfdd407-9d92-4dd8-af33-43506db1b094",
   "metadata": {},
   "outputs": [],
   "source": [
    "X = df.drop(columns='Copper_Price')\n",
    "y = df['Copper_Price']"
   ]
  },
  {
   "cell_type": "code",
   "execution_count": 17,
   "id": "216766eb-21e9-4c1e-8c87-0c681fbbfe28",
   "metadata": {},
   "outputs": [],
   "source": [
    "X_train, X_test, y_train, y_test = train_test_split(X, y, test_size=0.2, random_state=42)"
   ]
  },
  {
   "cell_type": "markdown",
   "id": "87922a25-7727-4fda-b825-c910ca5c4c83",
   "metadata": {},
   "source": [
    "### Visualize Representation of Train vs Test Data"
   ]
  },
  {
   "cell_type": "code",
   "execution_count": 18,
   "id": "c09fcc20-1a91-4924-b54d-d60cf1648fdd",
   "metadata": {},
   "outputs": [
    {
     "data": {
      "image/png": "[encoded data removed]",
      "text/plain": [
       "<Figure size 1000x600 with 1 Axes>"
      ]
     },
     "metadata": {},
     "output_type": "display_data"
    }
   ],
   "source": [
    "plt.figure(figsize=(10,6))\n",
    "plt.hist(y_train, bins=30, alpha=0.5, label='Train Data', color='blue')\n",
    "plt.hist(y_test, bins=30, alpha=0.5, label='Test Data', color='orange')\n",
    "plt.title('Train vs Test Copper Price Distribution', fontsize=16)\n",
    "plt.xlabel('Copper Price', fontsize=14)\n",
    "plt.ylabel('Frequency', fontsize=14)\n",
    "plt.legend()\n",
    "plt.show()"
   ]
  },
  {
   "cell_type": "markdown",
   "id": "997d2135-f1b3-4408-8315-da5329fdd18d",
   "metadata": {},
   "source": [
    "### Train Model\n",
    "* Basic model with no parameters"
   ]
  },
  {
   "cell_type": "code",
   "execution_count": 20,
   "id": "4d381de6-ac6a-4882-b633-953cc1a6bb6c",
   "metadata": {},
   "outputs": [
    {
     "data": {
      "text/html": [
       "<style>#sk-container-id-1 {color: black;}#sk-container-id-1 pre{padding: 0;}#sk-container-id-1 div.sk-toggleable {background-color: white;}#sk-container-id-1 label.sk-toggleable__label {cursor: pointer;display: block;width: 100%;margin-bottom: 0;padding: 0.3em;box-sizing: border-box;text-align: center;}#sk-container-id-1 label.sk-toggleable__label-arrow:before {content: \"▸\";float: left;margin-right: 0.25em;color: #696969;}#sk-container-id-1 label.sk-toggleable__label-arrow:hover:before {color: black;}#sk-container-id-1 div.sk-estimator:hover label.sk-toggleable__label-arrow:before {color: black;}#sk-container-id-1 div.sk-toggleable__content {max-height: 0;max-width: 0;overflow: hidden;text-align: left;background-color: #f0f8ff;}#sk-container-id-1 div.sk-toggleable__content pre {margin: 0.2em;color: black;border-radius: 0.25em;background-color: #f0f8ff;}#sk-container-id-1 input.sk-toggleable__control:checked~div.sk-toggleable__content {max-height: 200px;max-width: 100%;overflow: auto;}#sk-container-id-1 input.sk-toggleable__control:checked~label.sk-toggleable__label-arrow:before {content: \"▾\";}#sk-container-id-1 div.sk-estimator input.sk-toggleable__control:checked~label.sk-toggleable__label {background-color: #d4ebff;}#sk-container-id-1 div.sk-label input.sk-toggleable__control:checked~label.sk-toggleable__label {background-color: #d4ebff;}#sk-container-id-1 input.sk-hidden--visually {border: 0;clip: rect(1px 1px 1px 1px);clip: rect(1px, 1px, 1px, 1px);height: 1px;margin: -1px;overflow: hidden;padding: 0;position: absolute;width: 1px;}#sk-container-id-1 div.sk-estimator {font-family: monospace;background-color: #f0f8ff;border: 1px dotted black;border-radius: 0.25em;box-sizing: border-box;margin-bottom: 0.5em;}#sk-container-id-1 div.sk-estimator:hover {background-color: #d4ebff;}#sk-container-id-1 div.sk-parallel-item::after {content: \"\";width: 100%;border-bottom: 1px solid gray;flex-grow: 1;}#sk-container-id-1 div.sk-label:hover label.sk-toggleable__label {background-color: #d4ebff;}#sk-container-id-1 div.sk-serial::before {content: \"\";position: absolute;border-left: 1px solid gray;box-sizing: border-box;top: 0;bottom: 0;left: 50%;z-index: 0;}#sk-container-id-1 div.sk-serial {display: flex;flex-direction: column;align-items: center;background-color: white;padding-right: 0.2em;padding-left: 0.2em;position: relative;}#sk-container-id-1 div.sk-item {position: relative;z-index: 1;}#sk-container-id-1 div.sk-parallel {display: flex;align-items: stretch;justify-content: center;background-color: white;position: relative;}#sk-container-id-1 div.sk-item::before, #sk-container-id-1 div.sk-parallel-item::before {content: \"\";position: absolute;border-left: 1px solid gray;box-sizing: border-box;top: 0;bottom: 0;left: 50%;z-index: -1;}#sk-container-id-1 div.sk-parallel-item {display: flex;flex-direction: column;z-index: 1;position: relative;background-color: white;}#sk-container-id-1 div.sk-parallel-item:first-child::after {align-self: flex-end;width: 50%;}#sk-container-id-1 div.sk-parallel-item:last-child::after {align-self: flex-start;width: 50%;}#sk-container-id-1 div.sk-parallel-item:only-child::after {width: 0;}#sk-container-id-1 div.sk-dashed-wrapped {border: 1px dashed gray;margin: 0 0.4em 0.5em 0.4em;box-sizing: border-box;padding-bottom: 0.4em;background-color: white;}#sk-container-id-1 div.sk-label label {font-family: monospace;font-weight: bold;display: inline-block;line-height: 1.2em;}#sk-container-id-1 div.sk-label-container {text-align: center;}#sk-container-id-1 div.sk-container {/* jupyter's `normalize.less` sets `[hidden] { display: none; }` but bootstrap.min.css set `[hidden] { display: none !important; }` so we also need the `!important` here to be able to override the default hidden behavior on the sphinx rendered scikit-learn.org. See: https://github.com/scikit-learn/scikit-learn/issues/21755 */display: inline-block !important;position: relative;}#sk-container-id-1 div.sk-text-repr-fallback {display: none;}</style><div id=\"sk-container-id-1\" class=\"sk-top-container\"><div class=\"sk-text-repr-fallback\"><pre>XGBRegressor(base_score=None, booster=None, callbacks=None,\n",
       "             colsample_bylevel=None, colsample_bynode=None,\n",
       "             colsample_bytree=None, device=None, early_stopping_rounds=None,\n",
       "             enable_categorical=False, eval_metric=None, feature_types=None,\n",
       "             gamma=None, grow_policy=None, importance_type=None,\n",
       "             interaction_constraints=None, learning_rate=None, max_bin=None,\n",
       "             max_cat_threshold=None, max_cat_to_onehot=None,\n",
       "             max_delta_step=None, max_depth=None, max_leaves=None,\n",
       "             min_child_weight=None, missing=nan, monotone_constraints=None,\n",
       "             multi_strategy=None, n_estimators=None, n_jobs=None,\n",
       "             num_parallel_tree=None, random_state=None, ...)</pre><b>In a Jupyter environment, please rerun this cell to show the HTML representation or trust the notebook. <br />On GitHub, the HTML representation is unable to render, please try loading this page with nbviewer.org.</b></div><div class=\"sk-container\" hidden><div class=\"sk-item\"><div class=\"sk-estimator sk-toggleable\"><input class=\"sk-toggleable__control sk-hidden--visually\" id=\"sk-estimator-id-1\" type=\"checkbox\" checked><label for=\"sk-estimator-id-1\" class=\"sk-toggleable__label sk-toggleable__label-arrow\">XGBRegressor</label><div class=\"sk-toggleable__content\"><pre>XGBRegressor(base_score=None, booster=None, callbacks=None,\n",
       "             colsample_bylevel=None, colsample_bynode=None,\n",
       "             colsample_bytree=None, device=None, early_stopping_rounds=None,\n",
       "             enable_categorical=False, eval_metric=None, feature_types=None,\n",
       "             gamma=None, grow_policy=None, importance_type=None,\n",
       "             interaction_constraints=None, learning_rate=None, max_bin=None,\n",
       "             max_cat_threshold=None, max_cat_to_onehot=None,\n",
       "             max_delta_step=None, max_depth=None, max_leaves=None,\n",
       "             min_child_weight=None, missing=nan, monotone_constraints=None,\n",
       "             multi_strategy=None, n_estimators=None, n_jobs=None,\n",
       "             num_parallel_tree=None, random_state=None, ...)</pre></div></div></div></div></div>"
      ],
      "text/plain": [
       "XGBRegressor(base_score=None, booster=None, callbacks=None,\n",
       "             colsample_bylevel=None, colsample_bynode=None,\n",
       "             colsample_bytree=None, device=None, early_stopping_rounds=None,\n",
       "             enable_categorical=False, eval_metric=None, feature_types=None,\n",
       "             gamma=None, grow_policy=None, importance_type=None,\n",
       "             interaction_constraints=None, learning_rate=None, max_bin=None,\n",
       "             max_cat_threshold=None, max_cat_to_onehot=None,\n",
       "             max_delta_step=None, max_depth=None, max_leaves=None,\n",
       "             min_child_weight=None, missing=nan, monotone_constraints=None,\n",
       "             multi_strategy=None, n_estimators=None, n_jobs=None,\n",
       "             num_parallel_tree=None, random_state=None, ...)"
      ]
     },
     "execution_count": 20,
     "metadata": {},
     "output_type": "execute_result"
    }
   ],
   "source": [
    "xg_reg = xgb.XGBRegressor()\n",
    "xg_reg.fit(X_train, y_train)"
   ]
  },
  {
   "cell_type": "markdown",
   "id": "a19d2eac-3680-4a8a-9fdb-d8eec7e0ee76",
   "metadata": {},
   "source": [
    "### Prediction"
   ]
  },
  {
   "cell_type": "code",
   "execution_count": 21,
   "id": "a4b9f02c-2c32-47d4-8444-14d0b711202b",
   "metadata": {},
   "outputs": [],
   "source": [
    "y_pred = xg_reg.predict(X_test)"
   ]
  },
  {
   "cell_type": "markdown",
   "id": "305dca91-7370-4f14-8580-d24560d0f62f",
   "metadata": {},
   "source": [
    "### Evaluate Model"
   ]
  },
  {
   "cell_type": "code",
   "execution_count": 22,
   "id": "66a64a65-5fab-4e38-8ace-10816daf76aa",
   "metadata": {},
   "outputs": [],
   "source": [
    "from sklearn.metrics import mean_squared_error, r2_score"
   ]
  },
  {
   "cell_type": "code",
   "execution_count": 23,
   "id": "90442a59-ab68-4bdf-af9a-b114aa216202",
   "metadata": {},
   "outputs": [],
   "source": [
    "mse = mean_squared_error(y_test, y_pred)\n",
    "r2 = r2_score(y_test, y_pred)"
   ]
  },
  {
   "cell_type": "code",
   "execution_count": 24,
   "id": "d719454a-6a9d-4c1c-b063-e1457cb86b97",
   "metadata": {},
   "outputs": [
    {
     "name": "stdout",
     "output_type": "stream",
     "text": [
      "             Model       MSE        R2\n",
      "0  XGBoost_no_tune  0.004704  0.990311\n"
     ]
    }
   ],
   "source": [
    "eval_results_df = pd.DataFrame(columns=['Model', 'MSE', 'R2'])\n",
    "def save_results(model, mse, r2, df):\n",
    "    # Create a dictiontary with the resulting scores and add to Dataframe\n",
    "    eval_results = {\n",
    "        'Model': model,\n",
    "        'MSE': mse,\n",
    "        'R2': r2\n",
    "    }\n",
    "    df = pd.concat([df, pd.DataFrame([eval_results])], ignore_index=True)\n",
    "    return df\n",
    "eval_results_df = save_results('XGBoost_no_tune', mse, r2, eval_results_df)\n",
    "print(eval_results_df)"
   ]
  },
  {
   "cell_type": "markdown",
   "id": "a3bb2efb-f608-4dff-958f-fc8d672ece3c",
   "metadata": {},
   "source": [
    "### Visualize Prediction"
   ]
  },
  {
   "cell_type": "code",
   "execution_count": 25,
   "id": "c0b0da15-f8cb-40cb-8ebf-23b4acf38ef1",
   "metadata": {},
   "outputs": [
    {
     "data": {
      "text/plain": [
       "Text(0, 0.5, 'Preicted Copper Price')"
      ]
     },
     "execution_count": 25,
     "metadata": {},
     "output_type": "execute_result"
    },
    {
     "data": {
      "image/png": "[encoded data removed]",
      "text/plain": [
       "<Figure size 1000x600 with 1 Axes>"
      ]
     },
     "metadata": {},
     "output_type": "display_data"
    }
   ],
   "source": [
    "plt.figure(figsize=(10, 6))\n",
    "plt.scatter(y_test, y_pred, color='purple', alpha=0.4)\n",
    "plt.plot([y_test.min(), y_test.max()], [y_test.min(), y_test.max()], 'k--', lw=2)\n",
    "plt.title('Actual vs Predicted Copper Prices', fontsize=16)\n",
    "plt.xlabel('Actual Copper Price', fontsize=14)\n",
    "plt.ylabel('Predicted Copper Price', fontsize=14)"
   ]
  },
  {
   "cell_type": "markdown",
   "id": "397292b6-0dfb-4c97-94e6-4f061794644e",
   "metadata": {},
   "source": [
    "### Hyperparameter Tuning\n",
    "* Using GridSearch to find the best model parameters"
   ]
  },
  {
   "cell_type": "code",
   "execution_count": 26,
   "id": "24bf2dd3-469e-4aa7-8963-97af3115aa83",
   "metadata": {},
   "outputs": [],
   "source": [
    "from sklearn.model_selection import GridSearchCV"
   ]
  },
  {
   "cell_type": "code",
   "execution_count": 29,
   "id": "4db02056-cd16-4632-884c-527d89003158",
   "metadata": {},
   "outputs": [],
   "source": [
    "param_grid = {\n",
    "    'n_estimators': [100, 200],\n",
    "    'learning_rate': [0.03, 0.1],\n",
    "    'max_depth': [3, 5],\n",
    "    'min_child_weight': [1, 3],\n",
    "    'subsample': [0.8, 1.0],\n",
    "    'colsample_bytree': [0.8, 1.0],\n",
    "    'alpha': [0, 1],\n",
    "    'lambda': [0,1]\n",
    "}\n",
    "grid_search = GridSearchCV(\n",
    "    estimator=xg_reg,\n",
    "    param_grid=param_grid,\n",
    "    scoring='neg_mean_squared_error',\n",
    "    cv=3, \n",
    "    verbose=1,\n",
    "    n_jobs=-1\n",
    "    )"
   ]
  },
  {
   "cell_type": "markdown",
   "id": "d93fbf49-fbbe-46b5-9864-48df015b36da",
   "metadata": {},
   "source": [
    "### Trian Model"
   ]
  },
  {
   "cell_type": "code",
   "execution_count": 30,
   "id": "086fe79c-a30a-43ed-9538-2e0ed7691ab9",
   "metadata": {},
   "outputs": [
    {
     "name": "stdout",
     "output_type": "stream",
     "text": [
      "Fitting 3 folds for each of 256 candidates, totalling 768 fits\n"
     ]
    },
    {
     "data": {
      "text/html": [
       "<style>#sk-container-id-2 {color: black;}#sk-container-id-2 pre{padding: 0;}#sk-container-id-2 div.sk-toggleable {background-color: white;}#sk-container-id-2 label.sk-toggleable__label {cursor: pointer;display: block;width: 100%;margin-bottom: 0;padding: 0.3em;box-sizing: border-box;text-align: center;}#sk-container-id-2 label.sk-toggleable__label-arrow:before {content: \"▸\";float: left;margin-right: 0.25em;color: #696969;}#sk-container-id-2 label.sk-toggleable__label-arrow:hover:before {color: black;}#sk-container-id-2 div.sk-estimator:hover label.sk-toggleable__label-arrow:before {color: black;}#sk-container-id-2 div.sk-toggleable__content {max-height: 0;max-width: 0;overflow: hidden;text-align: left;background-color: #f0f8ff;}#sk-container-id-2 div.sk-toggleable__content pre {margin: 0.2em;color: black;border-radius: 0.25em;background-color: #f0f8ff;}#sk-container-id-2 input.sk-toggleable__control:checked~div.sk-toggleable__content {max-height: 200px;max-width: 100%;overflow: auto;}#sk-container-id-2 input.sk-toggleable__control:checked~label.sk-toggleable__label-arrow:before {content: \"▾\";}#sk-container-id-2 div.sk-estimator input.sk-toggleable__control:checked~label.sk-toggleable__label {background-color: #d4ebff;}#sk-container-id-2 div.sk-label input.sk-toggleable__control:checked~label.sk-toggleable__label {background-color: #d4ebff;}#sk-container-id-2 input.sk-hidden--visually {border: 0;clip: rect(1px 1px 1px 1px);clip: rect(1px, 1px, 1px, 1px);height: 1px;margin: -1px;overflow: hidden;padding: 0;position: absolute;width: 1px;}#sk-container-id-2 div.sk-estimator {font-family: monospace;background-color: #f0f8ff;border: 1px dotted black;border-radius: 0.25em;box-sizing: border-box;margin-bottom: 0.5em;}#sk-container-id-2 div.sk-estimator:hover {background-color: #d4ebff;}#sk-container-id-2 div.sk-parallel-item::after {content: \"\";width: 100%;border-bottom: 1px solid gray;flex-grow: 1;}#sk-container-id-2 div.sk-label:hover label.sk-toggleable__label {background-color: #d4ebff;}#sk-container-id-2 div.sk-serial::before {content: \"\";position: absolute;border-left: 1px solid gray;box-sizing: border-box;top: 0;bottom: 0;left: 50%;z-index: 0;}#sk-container-id-2 div.sk-serial {display: flex;flex-direction: column;align-items: center;background-color: white;padding-right: 0.2em;padding-left: 0.2em;position: relative;}#sk-container-id-2 div.sk-item {position: relative;z-index: 1;}#sk-container-id-2 div.sk-parallel {display: flex;align-items: stretch;justify-content: center;background-color: white;position: relative;}#sk-container-id-2 div.sk-item::before, #sk-container-id-2 div.sk-parallel-item::before {content: \"\";position: absolute;border-left: 1px solid gray;box-sizing: border-box;top: 0;bottom: 0;left: 50%;z-index: -1;}#sk-container-id-2 div.sk-parallel-item {display: flex;flex-direction: column;z-index: 1;position: relative;background-color: white;}#sk-container-id-2 div.sk-parallel-item:first-child::after {align-self: flex-end;width: 50%;}#sk-container-id-2 div.sk-parallel-item:last-child::after {align-self: flex-start;width: 50%;}#sk-container-id-2 div.sk-parallel-item:only-child::after {width: 0;}#sk-container-id-2 div.sk-dashed-wrapped {border: 1px dashed gray;margin: 0 0.4em 0.5em 0.4em;box-sizing: border-box;padding-bottom: 0.4em;background-color: white;}#sk-container-id-2 div.sk-label label {font-family: monospace;font-weight: bold;display: inline-block;line-height: 1.2em;}#sk-container-id-2 div.sk-label-container {text-align: center;}#sk-container-id-2 div.sk-container {/* jupyter's `normalize.less` sets `[hidden] { display: none; }` but bootstrap.min.css set `[hidden] { display: none !important; }` so we also need the `!important` here to be able to override the default hidden behavior on the sphinx rendered scikit-learn.org. See: https://github.com/scikit-learn/scikit-learn/issues/21755 */display: inline-block !important;position: relative;}#sk-container-id-2 div.sk-text-repr-fallback {display: none;}</style><div id=\"sk-container-id-2\" class=\"sk-top-container\"><div class=\"sk-text-repr-fallback\"><pre>GridSearchCV(cv=3,\n",
       "             estimator=XGBRegressor(base_score=None, booster=None,\n",
       "                                    callbacks=None, colsample_bylevel=None,\n",
       "                                    colsample_bynode=None,\n",
       "                                    colsample_bytree=None, device=None,\n",
       "                                    early_stopping_rounds=None,\n",
       "                                    enable_categorical=False, eval_metric=None,\n",
       "                                    feature_types=None, gamma=None,\n",
       "                                    grow_policy=None, importance_type=None,\n",
       "                                    interaction_constraints=None,\n",
       "                                    learning_rate=None, m...\n",
       "                                    monotone_constraints=None,\n",
       "                                    multi_strategy=None, n_estimators=None,\n",
       "                                    n_jobs=None, num_parallel_tree=None,\n",
       "                                    random_state=None, ...),\n",
       "             n_jobs=-1,\n",
       "             param_grid={&#x27;alpha&#x27;: [0, 1], &#x27;colsample_bytree&#x27;: [0.8, 1.0],\n",
       "                         &#x27;lambda&#x27;: [0, 1], &#x27;learning_rate&#x27;: [0.03, 0.1],\n",
       "                         &#x27;max_depth&#x27;: [3, 5], &#x27;min_child_weight&#x27;: [1, 3],\n",
       "                         &#x27;n_estimators&#x27;: [100, 200], &#x27;subsample&#x27;: [0.8, 1.0]},\n",
       "             scoring=&#x27;neg_mean_squared_error&#x27;, verbose=1)</pre><b>In a Jupyter environment, please rerun this cell to show the HTML representation or trust the notebook. <br />On GitHub, the HTML representation is unable to render, please try loading this page with nbviewer.org.</b></div><div class=\"sk-container\" hidden><div class=\"sk-item sk-dashed-wrapped\"><div class=\"sk-label-container\"><div class=\"sk-label sk-toggleable\"><input class=\"sk-toggleable__control sk-hidden--visually\" id=\"sk-estimator-id-2\" type=\"checkbox\" ><label for=\"sk-estimator-id-2\" class=\"sk-toggleable__label sk-toggleable__label-arrow\">GridSearchCV</label><div class=\"sk-toggleable__content\"><pre>GridSearchCV(cv=3,\n",
       "             estimator=XGBRegressor(base_score=None, booster=None,\n",
       "                                    callbacks=None, colsample_bylevel=None,\n",
       "                                    colsample_bynode=None,\n",
       "                                    colsample_bytree=None, device=None,\n",
       "                                    early_stopping_rounds=None,\n",
       "                                    enable_categorical=False, eval_metric=None,\n",
       "                                    feature_types=None, gamma=None,\n",
       "                                    grow_policy=None, importance_type=None,\n",
       "                                    interaction_constraints=None,\n",
       "                                    learning_rate=None, m...\n",
       "                                    monotone_constraints=None,\n",
       "                                    multi_strategy=None, n_estimators=None,\n",
       "                                    n_jobs=None, num_parallel_tree=None,\n",
       "                                    random_state=None, ...),\n",
       "             n_jobs=-1,\n",
       "             param_grid={&#x27;alpha&#x27;: [0, 1], &#x27;colsample_bytree&#x27;: [0.8, 1.0],\n",
       "                         &#x27;lambda&#x27;: [0, 1], &#x27;learning_rate&#x27;: [0.03, 0.1],\n",
       "                         &#x27;max_depth&#x27;: [3, 5], &#x27;min_child_weight&#x27;: [1, 3],\n",
       "                         &#x27;n_estimators&#x27;: [100, 200], &#x27;subsample&#x27;: [0.8, 1.0]},\n",
       "             scoring=&#x27;neg_mean_squared_error&#x27;, verbose=1)</pre></div></div></div><div class=\"sk-parallel\"><div class=\"sk-parallel-item\"><div class=\"sk-item\"><div class=\"sk-label-container\"><div class=\"sk-label sk-toggleable\"><input class=\"sk-toggleable__control sk-hidden--visually\" id=\"sk-estimator-id-3\" type=\"checkbox\" ><label for=\"sk-estimator-id-3\" class=\"sk-toggleable__label sk-toggleable__label-arrow\">estimator: XGBRegressor</label><div class=\"sk-toggleable__content\"><pre>XGBRegressor(base_score=None, booster=None, callbacks=None,\n",
       "             colsample_bylevel=None, colsample_bynode=None,\n",
       "             colsample_bytree=None, device=None, early_stopping_rounds=None,\n",
       "             enable_categorical=False, eval_metric=None, feature_types=None,\n",
       "             gamma=None, grow_policy=None, importance_type=None,\n",
       "             interaction_constraints=None, learning_rate=None, max_bin=None,\n",
       "             max_cat_threshold=None, max_cat_to_onehot=None,\n",
       "             max_delta_step=None, max_depth=None, max_leaves=None,\n",
       "             min_child_weight=None, missing=nan, monotone_constraints=None,\n",
       "             multi_strategy=None, n_estimators=None, n_jobs=None,\n",
       "             num_parallel_tree=None, random_state=None, ...)</pre></div></div></div><div class=\"sk-serial\"><div class=\"sk-item\"><div class=\"sk-estimator sk-toggleable\"><input class=\"sk-toggleable__control sk-hidden--visually\" id=\"sk-estimator-id-4\" type=\"checkbox\" ><label for=\"sk-estimator-id-4\" class=\"sk-toggleable__label sk-toggleable__label-arrow\">XGBRegressor</label><div class=\"sk-toggleable__content\"><pre>XGBRegressor(base_score=None, booster=None, callbacks=None,\n",
       "             colsample_bylevel=None, colsample_bynode=None,\n",
       "             colsample_bytree=None, device=None, early_stopping_rounds=None,\n",
       "             enable_categorical=False, eval_metric=None, feature_types=None,\n",
       "             gamma=None, grow_policy=None, importance_type=None,\n",
       "             interaction_constraints=None, learning_rate=None, max_bin=None,\n",
       "             max_cat_threshold=None, max_cat_to_onehot=None,\n",
       "             max_delta_step=None, max_depth=None, max_leaves=None,\n",
       "             min_child_weight=None, missing=nan, monotone_constraints=None,\n",
       "             multi_strategy=None, n_estimators=None, n_jobs=None,\n",
       "             num_parallel_tree=None, random_state=None, ...)</pre></div></div></div></div></div></div></div></div></div></div>"
      ],
      "text/plain": [
       "GridSearchCV(cv=3,\n",
       "             estimator=XGBRegressor(base_score=None, booster=None,\n",
       "                                    callbacks=None, colsample_bylevel=None,\n",
       "                                    colsample_bynode=None,\n",
       "                                    colsample_bytree=None, device=None,\n",
       "                                    early_stopping_rounds=None,\n",
       "                                    enable_categorical=False, eval_metric=None,\n",
       "                                    feature_types=None, gamma=None,\n",
       "                                    grow_policy=None, importance_type=None,\n",
       "                                    interaction_constraints=None,\n",
       "                                    learning_rate=None, m...\n",
       "                                    monotone_constraints=None,\n",
       "                                    multi_strategy=None, n_estimators=None,\n",
       "                                    n_jobs=None, num_parallel_tree=None,\n",
       "                                    random_state=None, ...),\n",
       "             n_jobs=-1,\n",
       "             param_grid={'alpha': [0, 1], 'colsample_bytree': [0.8, 1.0],\n",
       "                         'lambda': [0, 1], 'learning_rate': [0.03, 0.1],\n",
       "                         'max_depth': [3, 5], 'min_child_weight': [1, 3],\n",
       "                         'n_estimators': [100, 200], 'subsample': [0.8, 1.0]},\n",
       "             scoring='neg_mean_squared_error', verbose=1)"
      ]
     },
     "execution_count": 30,
     "metadata": {},
     "output_type": "execute_result"
    }
   ],
   "source": [
    "grid_search.fit(X_train, y_train)"
   ]
  },
  {
   "cell_type": "markdown",
   "id": "1542cfca-0b1f-4fb8-9107-1ef701ba8a39",
   "metadata": {},
   "source": [
    "#### Get Best Model"
   ]
  },
  {
   "cell_type": "code",
   "execution_count": 36,
   "id": "a7a740da-c8d1-44a2-94f3-2f70cf02e594",
   "metadata": {},
   "outputs": [
    {
     "name": "stdout",
     "output_type": "stream",
     "text": [
      "Best parameters found: {'alpha': 0, 'colsample_bytree': 0.8, 'lambda': 1, 'learning_rate': 0.1, 'max_depth': 5, 'min_child_weight': 1, 'n_estimators': 200, 'subsample': 0.8}\n"
     ]
    }
   ],
   "source": [
    "best_model = grid_search.best_estimator_\n",
    "print(f'Best parameters found: {grid_search.best_params_}')"
   ]
  },
  {
   "cell_type": "markdown",
   "id": "54559341-7413-48d6-aac5-5da649e2ebf4",
   "metadata": {},
   "source": [
    "### Prediction"
   ]
  },
  {
   "cell_type": "code",
   "execution_count": 37,
   "id": "1a0dd4eb-fcaf-486c-b912-63ef3b015791",
   "metadata": {},
   "outputs": [],
   "source": [
    "y_pred = best_model.predict(X_test)"
   ]
  },
  {
   "cell_type": "markdown",
   "id": "3290ac7e-8f40-4aee-8965-648c7b4b0852",
   "metadata": {},
   "source": [
    "### Evaluate Model"
   ]
  },
  {
   "cell_type": "code",
   "execution_count": 38,
   "id": "dfcf1aa1-3129-4d1a-8e9e-e5620e621b68",
   "metadata": {},
   "outputs": [],
   "source": [
    "mse = mean_squared_error(y_test, y_pred)\n",
    "r2 = r2_score(y_test, y_pred)"
   ]
  },
  {
   "cell_type": "code",
   "execution_count": 40,
   "id": "47c94caf-6536-42b3-aff7-8afb3103b4bc",
   "metadata": {},
   "outputs": [
    {
     "name": "stdout",
     "output_type": "stream",
     "text": [
      "             Model       MSE        R2\n",
      "0  XGBoost_no_tune  0.004704  0.990311\n",
      "1    XGBoost_tuned  0.003990  0.991783\n"
     ]
    }
   ],
   "source": [
    "eval_results_df = save_results('XGBoost_tuned', mse, r2, eval_results_df)\n",
    "print(eval_results_df)"
   ]
  },
  {
   "cell_type": "markdown",
   "id": "9901a7a4-3535-41cb-8cf2-8d3c143749ef",
   "metadata": {},
   "source": [
    "# Testing Model"
   ]
  },
  {
   "cell_type": "markdown",
   "id": "c3a900f2-c795-4af2-b6c4-a8b6ab30f320",
   "metadata": {},
   "source": [
    "# Results"
   ]
  },
  {
   "cell_type": "code",
   "execution_count": null,
   "id": "80adf461-a907-459a-87de-0b0aed6f6306",
   "metadata": {},
   "outputs": [],
   "source": []
  }
 ],
 "metadata": {
  "kernelspec": {
   "display_name": "Python 3 (ipykernel)",
   "language": "python",
   "name": "python3"
  },
  "language_info": {
   "codemirror_mode": {
    "name": "ipython",
    "version": 3
   },
   "file_extension": ".py",
   "mimetype": "text/x-python",
   "name": "python",
   "nbconvert_exporter": "python",
   "pygments_lexer": "ipython3",
   "version": "3.8.19"
  }
 },
 "nbformat": 4,
 "nbformat_minor": 5
}

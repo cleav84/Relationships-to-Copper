{
 "cells": [
  {
   "cell_type": "markdown",
   "id": "4716b679-7551-4945-b5c0-71493e58ac95",
   "metadata": {},
   "source": [
    "# Collect Data"
   ]
  },
  {
   "cell_type": "markdown",
   "id": "db56bb77-8260-479c-a05e-19b172396e17",
   "metadata": {},
   "source": [
    "# Preprocessing Data/ Feature Engineering"
   ]
  },
  {
   "cell_type": "markdown",
   "id": "9478d667-abac-4df5-b738-5b8c035e7298",
   "metadata": {},
   "source": [
    "# Statistical Tests"
   ]
  },
  {
   "cell_type": "markdown",
   "id": "26c62336-5ad9-4926-8ff5-84ebb23fd380",
   "metadata": {},
   "source": [
    "### Hypothesis Results"
   ]
  },
  {
   "cell_type": "markdown",
   "id": "931c9571-5097-4988-b636-5455a0fe2e89",
   "metadata": {},
   "source": [
    "# Visualize Correlation"
   ]
  },
  {
   "cell_type": "markdown",
   "id": "b082d546-14e0-4f45-93a6-774c6bb61324",
   "metadata": {},
   "source": [
    "# Model Creation"
   ]
  },
  {
   "cell_type": "markdown",
   "id": "997d2135-f1b3-4408-8315-da5329fdd18d",
   "metadata": {},
   "source": [
    "### Train Model"
   ]
  },
  {
   "cell_type": "markdown",
   "id": "20d7624b-610b-409a-9dfa-56801678a3e7",
   "metadata": {},
   "source": [
    "### Evaluate Model"
   ]
  },
  {
   "cell_type": "markdown",
   "id": "397292b6-0dfb-4c97-94e6-4f061794644e",
   "metadata": {},
   "source": [
    "### Hyperparameter Tuning"
   ]
  },
  {
   "cell_type": "markdown",
   "id": "3290ac7e-8f40-4aee-8965-648c7b4b0852",
   "metadata": {},
   "source": [
    "### Evaluate Model"
   ]
  },
  {
   "cell_type": "markdown",
   "id": "9901a7a4-3535-41cb-8cf2-8d3c143749ef",
   "metadata": {},
   "source": [
    "# Testing Model"
   ]
  },
  {
   "cell_type": "markdown",
   "id": "c3a900f2-c795-4af2-b6c4-a8b6ab30f320",
   "metadata": {},
   "source": [
    "# Results"
   ]
  },
  {
   "cell_type": "code",
   "execution_count": null,
   "id": "80adf461-a907-459a-87de-0b0aed6f6306",
   "metadata": {},
   "outputs": [],
   "source": []
  }
 ],
 "metadata": {
  "kernelspec": {
   "display_name": "Python 3 (ipykernel)",
   "language": "python",
   "name": "python3"
  },
  "language_info": {
   "codemirror_mode": {
    "name": "ipython",
    "version": 3
   },
   "file_extension": ".py",
   "mimetype": "text/x-python",
   "name": "python",
   "nbconvert_exporter": "python",
   "pygments_lexer": "ipython3",
   "version": "3.8.19"
  }
 },
 "nbformat": 4,
 "nbformat_minor": 5
}
